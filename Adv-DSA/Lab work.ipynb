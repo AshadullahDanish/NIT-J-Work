{
 "cells": [
  {
   "cell_type": "markdown",
   "id": "a9d5c67f-79e2-45eb-9810-45c760a987fd",
   "metadata": {},
   "source": [
    "### 1. Print all primes numbers from 1 to n where n will be entered by user."
   ]
  },
  {
   "cell_type": "code",
   "execution_count": null,
   "id": "b664b947-3f7a-42b6-b014-5b52f03bdfa9",
   "metadata": {},
   "outputs": [],
   "source": []
  },
  {
   "cell_type": "code",
   "execution_count": null,
   "id": "69a9cba0-490e-4871-a7db-721766cedc0a",
   "metadata": {},
   "outputs": [],
   "source": []
  }
 ],
 "metadata": {
  "kernelspec": {
   "display_name": "Python 3 (ipykernel)",
   "language": "python",
   "name": "python3"
  },
  "language_info": {
   "codemirror_mode": {
    "name": "ipython",
    "version": 3
   },
   "file_extension": ".py",
   "mimetype": "text/x-python",
   "name": "python",
   "nbconvert_exporter": "python",
   "pygments_lexer": "ipython3",
   "version": "3.12.5"
  }
 },
 "nbformat": 4,
 "nbformat_minor": 5
}
