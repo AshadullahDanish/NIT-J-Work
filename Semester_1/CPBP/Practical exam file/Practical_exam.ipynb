{
 "cells": [
  {
   "cell_type": "code",
   "execution_count": 4,
   "id": "d1230832-afb3-4dde-ae45-55b6f047f434",
   "metadata": {},
   "outputs": [
    {
     "name": "stdin",
     "output_type": "stream",
     "text": [
      "Enter a sentence:  hi how are you\n"
     ]
    },
    {
     "name": "stdout",
     "output_type": "stream",
     "text": [
      "The longest word is: how\n",
      "Length of the longest word: 3 characters\n"
     ]
    }
   ],
   "source": [
    "def find_longest_word(sentence):\n",
    "    # Remove punctuation and split the sentence into words\n",
    "    words = sentence.replace(',', '').replace('.', '').replace('!', '').replace('?', '').split()\n",
    "    \n",
    "    # Find the longest word\n",
    "    if not words:\n",
    "        return None\n",
    "    \n",
    "    longest_word = max(words, key=len)\n",
    "    return longest_word\n",
    "\n",
    "def main():\n",
    "    # Get input from the user\n",
    "    sentence = input(\"Enter a sentence: \")\n",
    "    \n",
    "    # Find the longest word\n",
    "    longest = find_longest_word(sentence)\n",
    "    \n",
    "    # Print the result\n",
    "    if longest:\n",
    "        print(f\"The longest word is: {longest}\")\n",
    "        print(f\"Length of the longest word: {len(longest)} characters\")\n",
    "    else:\n",
    "        print(\"No words found in the sentence.\")\n",
    "\n",
    "# Run the main function\n",
    "if __name__ == \"__main__\":\n",
    "    main()"
   ]
  },
  {
   "cell_type": "code",
   "execution_count": 5,
   "id": "7dd4a8e7-29a4-4dfe-8c93-1bd6ece7e05f",
   "metadata": {},
   "outputs": [
    {
     "name": "stdout",
     "output_type": "stream",
     "text": [
      "Student Scores Dictionary:\n",
      "Alice: 85\n",
      "Bob: 90\n",
      "Charlie: 78\n",
      "\n",
      "Highest Scoring Student:\n",
      "Name: Bob\n",
      "Score: 90\n"
     ]
    }
   ],
   "source": [
    "def process_student_scores(student_scores):\n",
    "    \n",
    "    # Convert list to dictionary\n",
    "    score_dict = dict(student_scores)\n",
    "    \n",
    "    # Find the student with the highest score\n",
    "    if not score_dict:\n",
    "        return {}, None\n",
    "    \n",
    "    highest_scorer = max(score_dict, key=score_dict.get)\n",
    "    \n",
    "    return score_dict, highest_scorer\n",
    "\n",
    "def main():\n",
    "    # Example input\n",
    "    student_scores = [(\"Alice\", 85), (\"Bob\", 90), (\"Charlie\", 78)]\n",
    "    \n",
    "    # Process the scores\n",
    "    scores_dictionary, top_student = process_student_scores(student_scores)\n",
    "    \n",
    "    # Display results\n",
    "    print(\"Student Scores Dictionary:\")\n",
    "    for student, score in scores_dictionary.items():\n",
    "        print(f\"{student}: {score}\")\n",
    "    \n",
    "    print(\"\\nHighest Scoring Student:\")\n",
    "    print(f\"Name: {top_student}\")\n",
    "    print(f\"Score: {scores_dictionary[top_student]}\")\n",
    "\n",
    "# Run the main function\n",
    "if __name__ == \"__main__\":\n",
    "    main()"
   ]
  },
  {
   "cell_type": "code",
   "execution_count": 6,
   "id": "905840b0-cd10-4fac-afe0-c51c6d7a42d7",
   "metadata": {},
   "outputs": [
    {
     "name": "stdout",
     "output_type": "stream",
     "text": [
      "Average Rating: 3.45\n",
      "Most Frequent Rating: 4\n",
      "Invalid Ratings: [6, 0]\n"
     ]
    }
   ],
   "source": [
    "def analyze_ratings(ratings):\n",
    "    # Filter valid ratings (1-5)\n",
    "    valid_ratings = [r for r in ratings if 1 <= r <= 5]\n",
    "    \n",
    "    # Find invalid ratings\n",
    "    invalid_ratings = [r for r in ratings if r < 1 or r > 5]\n",
    "    \n",
    "    # Calculate average\n",
    "    average = sum(valid_ratings) / len(valid_ratings) if valid_ratings else None\n",
    "    \n",
    "    # Find most frequent rating\n",
    "    if valid_ratings:\n",
    "        most_frequent = max(set(valid_ratings), key=valid_ratings.count)\n",
    "    else:\n",
    "        most_frequent = None\n",
    "    \n",
    "    return {\n",
    "        'average': round(average, 2) if average is not None else None,\n",
    "        'most_frequent': most_frequent,\n",
    "        'invalid_ratings': invalid_ratings\n",
    "    }\n",
    "\n",
    "# Example usage\n",
    "def main():\n",
    "    # Sample ratings\n",
    "    ratings = [4, 5, 3, 2, 4, 5, 1, 6, 0, 4, 5, 3, 2]\n",
    "    \n",
    "    # Analyze ratings\n",
    "    result = analyze_ratings(ratings)\n",
    "    \n",
    "    # Print results\n",
    "    print(\"Average Rating:\", result['average'])\n",
    "    print(\"Most Frequent Rating:\", result['most_frequent'])\n",
    "    print(\"Invalid Ratings:\", result['invalid_ratings'])\n",
    "\n",
    "# Run the program\n",
    "if __name__ == \"__main__\":\n",
    "    main()"
   ]
  },
  {
   "cell_type": "code",
   "execution_count": null,
   "id": "d9b52caa-dd3f-4926-90a5-f497bc1e97ef",
   "metadata": {},
   "outputs": [],
   "source": []
  }
 ],
 "metadata": {
  "kernelspec": {
   "display_name": "Python 3 (ipykernel)",
   "language": "python",
   "name": "python3"
  },
  "language_info": {
   "codemirror_mode": {
    "name": "ipython",
    "version": 3
   },
   "file_extension": ".py",
   "mimetype": "text/x-python",
   "name": "python",
   "nbconvert_exporter": "python",
   "pygments_lexer": "ipython3",
   "version": "3.12.7"
  }
 },
 "nbformat": 4,
 "nbformat_minor": 5
}
