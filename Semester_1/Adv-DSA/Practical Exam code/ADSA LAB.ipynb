{
 "cells": [
  {
   "cell_type": "markdown",
   "id": "2062b81f-f0bb-4a73-a9ba-ec67855355cf",
   "metadata": {},
   "source": [
    "# Question 1: Count the Number of Occurrences of a Given Element in an Array"
   ]
  },
  {
   "cell_type": "code",
   "execution_count": 3,
   "id": "66406362-9484-41ac-b6f8-ce4427ea4e39",
   "metadata": {},
   "outputs": [
    {
     "name": "stdout",
     "output_type": "stream",
     "text": [
      "Occurrences of 2 : 3\n"
     ]
    }
   ],
   "source": [
    "def count_occurrences(arr, target):\n",
    "    counter = 0  # Initialize the counter\n",
    "    for num in arr:  # Iterate through the array\n",
    "        if num == target:  # Check if the element matches the target\n",
    "            counter += 1  # Increment the counter\n",
    "    return counter  # Return the count\n",
    "\n",
    "arr = [1, 2, 3, 2, 4, 2, 5]\n",
    "target = 2\n",
    "print(\"Occurrences of\", target, \":\", count_occurrences(arr, target))\n",
    "# Output: Occurrences of 2 : 3"
   ]
  },
  {
   "cell_type": "markdown",
   "id": "59dfe758-e08f-4c60-902a-2e7eba987683",
   "metadata": {},
   "source": [
    "# Question 2: Implement Heap Sort for an Array of Integers"
   ]
  },
  {
   "cell_type": "code",
   "execution_count": 4,
   "id": "bcdd780f-2dba-40c6-a5f9-bcce1eee52fe",
   "metadata": {},
   "outputs": [],
   "source": [
    "def heapify(arr, n, i):\n",
    "    largest = i  # Assume the root is the largest\n",
    "    left = 2 * i + 1  # Left child index\n",
    "    right = 2 * i + 2  # Right child index\n",
    "\n",
    "    # Check if the left child is larger\n",
    "    if left < n and arr[left] > arr[largest]:\n",
    "        largest = left\n",
    "\n",
    "    # Check if the right child is larger\n",
    "    if right < n and arr[right] > arr[largest]:\n",
    "        largest = right\n",
    "\n",
    "    # Swap and continue heapifying if root is not the largest\n",
    "    if largest != i:\n",
    "        arr[i], arr[largest] = arr[largest], arr[i]\n",
    "        heapify(arr, n, largest)\n",
    "\n",
    "def heap_sort(arr):\n",
    "    n = len(arr)\n",
    "\n",
    "    # Build a max heap\n",
    "    for i in range(n // 2 - 1, -1, -1):\n",
    "        heapify(arr, n, i)\n",
    "\n",
    "    # Extract elements from the heap one by one\n",
    "    for i in range(n - 1, 0, -1):\n",
    "        arr[i], arr[0] = arr[0], arr[i]  # Swap\n",
    "        heapify(arr, i, 0)\n",
    "\n",
    "    return arr\n"
   ]
  },
  {
   "cell_type": "code",
   "execution_count": 5,
   "id": "6fdbc1ec-3bb7-4517-9a7c-eecfbf81ddab",
   "metadata": {},
   "outputs": [
    {
     "name": "stdout",
     "output_type": "stream",
     "text": [
      "Sorted Array: [1, 3, 4, 5, 10]\n"
     ]
    }
   ],
   "source": [
    "arr = [4, 10, 3, 5, 1]\n",
    "print(\"Sorted Array:\", heap_sort(arr))"
   ]
  },
  {
   "cell_type": "markdown",
   "id": "398ea678-482c-469d-84a4-1943be7bb995",
   "metadata": {},
   "source": [
    "# Q3 Create a program to implement a stack using a linked list. Include push, pop, and peek operations."
   ]
  },
  {
   "cell_type": "code",
   "execution_count": null,
   "id": "d5325e44-00c5-4376-a216-552a33f50680",
   "metadata": {},
   "outputs": [],
   "source": []
  }
 ],
 "metadata": {
  "kernelspec": {
   "display_name": "Python 3 (ipykernel)",
   "language": "python",
   "name": "python3"
  },
  "language_info": {
   "codemirror_mode": {
    "name": "ipython",
    "version": 3
   },
   "file_extension": ".py",
   "mimetype": "text/x-python",
   "name": "python",
   "nbconvert_exporter": "python",
   "pygments_lexer": "ipython3",
   "version": "3.12.7"
  }
 },
 "nbformat": 4,
 "nbformat_minor": 5
}
